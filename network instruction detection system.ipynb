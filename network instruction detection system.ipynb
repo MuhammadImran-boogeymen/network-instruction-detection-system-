{
 "cells": [
  {
   "cell_type": "code",
   "execution_count": null,
   "id": "f732cac9-7bda-4eae-9d61-6ce8eec5ab4c",
   "metadata": {},
   "outputs": [],
   "source": [
    "import numpy as np\n",
    "import pandas as pd\n",
    "import time\n",
    "from sklearn.feature_selection import VarianceThreshold\n",
    "from sklearn.model_selection import train_test_split\n",
    "from sklearn.preprocessing import MinMaxScaler\n",
    "from sklearn.tree import DecisionTreeClassifier"
   ]
  },
  {
   "cell_type": "code",
   "execution_count": null,
   "id": "9d0e3c18-708a-4c17-ab80-56fd41c64d24",
   "metadata": {},
   "outputs": [],
   "source": [
    "df.columns"
   ]
  },
  {
   "cell_type": "code",
   "execution_count": null,
   "id": "cc1d23bd-e789-40d4-b36d-17f3231cbb05",
   "metadata": {},
   "outputs": [],
   "source": [
    "Index(['duration', 'protocol_type', 'service', 'flag', 'src_bytes',\n",
    "       'dst_bytes', 'land', 'wrong_fragment', 'urgent', 'hot',\n",
    "       'num_failed_logins', 'logged_in', 'num_compromised', 'root_shell',\n",
    "       'num_root', 'num_shells', 'num_access_files', 'num_outbound_cmds',\n",
    "       'is_host_login', 'is_guest_login', 'count', 'srv_count', 'serror_rate',\n",
    "       'srv_serror_rate', 'rerror_rate', 'srv_rerror_rate', 'same_srv_rate',\n",
    "       'diff_srv_rate', 'srv_diff_host_rate', 'dst_host_count',\n",
    "       'dst_host_srv_count', 'dst_host_same_srv_rate',\n",
    "       'dst_host_diff_srv_rate', 'dst_host_same_src_port_rate',\n",
    "       'dst_host_srv_diff_host_rate', 'dst_host_serror_rate',\n",
    "       'dst_host_srv_serror_rate', 'dst_host_rerror_rate',\n",
    "       'dst_host_srv_rerror_rate', 'class'],\n",
    "      dtype='object')"
   ]
  },
  {
   "cell_type": "code",
   "execution_count": null,
   "id": "563ae45e-1e78-4f55-adaa-30eb6397e289",
   "metadata": {},
   "outputs": [],
   "source": [
    "df.nunique()"
   ]
  },
  {
   "cell_type": "code",
   "execution_count": null,
   "id": "bae6b515-ac8b-48d7-b30f-452ba0ee3a03",
   "metadata": {},
   "outputs": [],
   "source": [
    "duration                        624\n",
    "protocol_type                     3\n",
    "service                          64\n",
    "flag                             11\n",
    "src_bytes                      1149\n",
    "dst_bytes                      3649\n",
    "land                              2\n",
    "wrong_fragment                    3\n",
    "urgent                            4\n",
    "hot                              16\n",
    "num_failed_logins                 5\n",
    "logged_in                         2\n",
    "num_compromised                  23\n",
    "root_shell                        2\n",
    "num_root                         20\n",
    "num_shells                        4\n",
    "num_access_files                  5\n",
    "num_outbound_cmds                 1\n",
    "is_host_login                     2\n",
    "is_guest_login                    2\n",
    "count                           495\n",
    "srv_count                       457\n",
    "serror_rate                      88\n",
    "srv_serror_rate                  82\n",
    "rerror_rate                      90\n",
    "srv_rerror_rate                  93\n",
    "same_srv_rate                    75\n",
    "diff_srv_rate                    99\n",
    "srv_diff_host_rate               84\n",
    "dst_host_count                  256\n",
    "dst_host_srv_count              256\n",
    "dst_host_same_srv_rate          101\n",
    "dst_host_diff_srv_rate          101\n",
    "dst_host_same_src_port_rate     101\n",
    "dst_host_srv_diff_host_rate      58\n",
    "dst_host_serror_rate             99\n",
    "dst_host_srv_serror_rate        101\n",
    "dst_host_rerror_rate            101\n",
    "dst_host_srv_rerror_rate        100\n",
    "class                             2\n",
    "dtype: int64"
   ]
  },
  {
   "cell_type": "code",
   "execution_count": null,
   "id": "41a71ad5-c210-4229-9c97-6f2b7d7e8573",
   "metadata": {},
   "outputs": [],
   "source": [
    "df.describe()"
   ]
  },
  {
   "cell_type": "code",
   "execution_count": null,
   "id": "ce3daedd-65c4-44eb-8153-a0553b7b2183",
   "metadata": {},
   "outputs": [],
   "source": [
    "duration\tsrc_bytes\tdst_bytes\tland\twrong_fragment\turgent\thot\tnum_failed_logins\tlogged_in\tnum_compromised\t...\tdst_host_count\tdst_host_srv_count\tdst_host_same_srv_rate\tdst_host_diff_srv_rate\tdst_host_same_src_port_rate\tdst_host_srv_diff_host_rate\tdst_host_serror_rate\tdst_host_srv_serror_rate\tdst_host_rerror_rate\tdst_host_srv_rerror_rate\n",
    "count\t22544.000000\t2.253800e+04\t2.253800e+04\t22544.000000\t22544.000000\t22544.000000\t22544.000000\t22544.000000\t22544.000000\t22544.000000\t...\t22544.000000\t22544.000000\t22544.000000\t22544.000000\t22544.000000\t22544.000000\t22544.000000\t22544.000000\t22544.000000\t22544.000000\n",
    "mean\t218.859076\t1.039812e+04\t2.055584e+03\t0.000311\t0.008428\t0.000710\t0.105394\t0.021647\t0.442202\t0.119899\t...\t193.869411\t140.750532\t0.608722\t0.090540\t0.132261\t0.019638\t0.097814\t0.099426\t0.233385\t0.226683\n",
    "std\t1407.176612\t4.728493e+05\t2.122190e+04\t0.017619\t0.142599\t0.036473\t0.928428\t0.150328\t0.496659\t7.269597\t...\t94.035663\t111.783972\t0.435688\t0.220717\t0.306268\t0.085394\t0.273139\t0.281866\t0.387229\t0.400875\n",
    "min\t0.000000\t0.000000e+00\t0.000000e+00\t0.000000\t0.000000\t0.000000\t0.000000\t0.000000\t0.000000\t0.000000\t...\t0.000000\t0.000000\t0.000000\t0.000000\t0.000000\t0.000000\t0.000000\t0.000000\t0.000000\t0.000000\n",
    "25%\t0.000000\t0.000000e+00\t0.000000e+00\t0.000000\t0.000000\t0.000000\t0.000000\t0.000000\t0.000000\t0.000000\t...\t121.000000\t15.000000\t0.070000\t0.000000\t0.000000\t0.000000\t0.000000\t0.000000\t0.000000\t0.000000\n",
    "50%\t0.000000\t5.400000e+01\t4.600000e+01\t0.000000\t0.000000\t0.000000\t0.000000\t0.000000\t0.000000\t0.000000\t...\t255.000000\t168.000000\t0.920000\t0.010000\t0.000000\t0.000000\t0.000000\t0.000000\t0.000000\t0.000000\n",
    "75%\t0.000000\t2.870000e+02\t6.010000e+02\t0.000000\t0.000000\t0.000000\t0.000000\t0.000000\t1.000000\t0.000000\t...\t255.000000\t255.000000\t1.000000\t0.060000\t0.030000\t0.010000\t0.000000\t0.000000\t0.360000\t0.170000\n",
    "max\t57715.000000\t6.282565e+07\t1.345927e+06\t1.000000\t3.000000\t3.000000\t101.000000\t4.000000\t1.000000\t796.000000\t...\t255.000000\t255.000000\t1.000000\t1.000000\t1.000000\t1.000000\t1.000000\t1.000000\t1.000000\t1.000000\n",
    "8 rows × 36 columns"
   ]
  }
 ],
 "metadata": {
  "kernelspec": {
   "display_name": "Python 3 (ipykernel)",
   "language": "python",
   "name": "python3"
  },
  "language_info": {
   "codemirror_mode": {
    "name": "ipython",
    "version": 3
   },
   "file_extension": ".py",
   "mimetype": "text/x-python",
   "name": "python",
   "nbconvert_exporter": "python",
   "pygments_lexer": "ipython3",
   "version": "3.12.4"
  }
 },
 "nbformat": 4,
 "nbformat_minor": 5
}
